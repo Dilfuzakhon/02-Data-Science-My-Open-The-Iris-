{
 "cells": [
  {
   "cell_type": "code",
   "execution_count": null,
   "metadata": {},
   "outputs": [],
   "source": [
    "import pandas as pd\n",
    "from matplotlib import pyplot\n",
    "import matplotlib.pyplot as plt\n",
    "from pandas.plotting import scatter_matrix\n",
    "from sklearn.metrics import accuracy_score\n",
    "from sklearn.model_selection import train_test_split, cross_val_score\n",
    "from sklearn.svm import SVC\n",
    "from sklearn.tree import DecisionTreeClassifier\n",
    "from sklearn.naive_bayes import GaussianNB\n",
    "from sklearn.neighbors import KNeighborsClassifier\n",
    "from sklearn.linear_model import LogisticRegression\n",
    "from sklearn.discriminant_analysis import LinearDiscriminantAnalysis\n",
    "from sklearn.model_selection import cross_val_score\n",
    "from sklearn.model_selection import KFold"
   ]
  },
  {
   "cell_type": "code",
   "execution_count": null,
   "metadata": {},
   "outputs": [],
   "source": [
    "def load_dataset():\n",
    "    url = \"https://storage.googleapis.com/qwasar-public/track-ds/iris.csv\"\n",
    "    dataset = pd.read_csv(url)\n",
    "    return dataset"
   ]
  },
  {
   "cell_type": "code",
   "execution_count": null,
   "metadata": {},
   "outputs": [],
   "source": [
    "def summarize_dataset(dataset):\n",
    "    print(\"Dataset dimension:\")\n",
    "    print(dataset.shape)\n",
    "    print(\"\\nFirst 10 rows of dataset:\")\n",
    "    print(dataset.head(10))\n",
    "    print(\"\\nStatistical summary:\")\n",
    "    print(dataset.describe())\n",
    "    print(\"\\nClass Distribution:\")\n",
    "    print(dataset.groupby('class').size())"
   ]
  },
  {
   "cell_type": "code",
   "execution_count": null,
   "metadata": {},
   "outputs": [],
   "source": [
    "def print_plot_univariate(dataset):\n",
    "    dataset.hist()\n",
    "    pyplot.show()"
   ]
  },
  {
   "cell_type": "code",
   "execution_count": null,
   "metadata": {},
   "outputs": [],
   "source": [
    "def print_plot_multivariate(dataset):\n",
    "    scatter_matrix(dataset)\n",
    "    pyplot.show()"
   ]
  },
  {
   "cell_type": "code",
   "execution_count": null,
   "metadata": {},
   "outputs": [],
   "source": [
    "def my_print_and_test_models(dataset):\n",
    "    array = dataset.values\n",
    "    X = array[:,0:4]\n",
    "    y = array[:,4]\n",
    "    X_train, X_validation, Y_train, Y_validation = train_test_split(X, y, test_size=0.20, random_state=1)\n",
    "    kfold = KFold(n_splits=10)\n",
    "\n",
    "    model = DecisionTreeClassifier()\n",
    "    model.fit(X_train, Y_train)\n",
    "    cv_results = cross_val_score(model, X_train, Y_train, cv=kfold, scoring='accuracy')\n",
    "    print(f\"DecisionTree: {cv_results.mean()}, ({cv_results.std()})\")\n",
    "\n",
    "    model_two = GaussianNB()\n",
    "    model_two.fit(X_train, Y_train)\n",
    "    cv_results = cross_val_score(model_two, X_train, Y_train, cv=kfold, scoring='accuracy')\n",
    "    print(f\"GaussianNB: {cv_results.mean()}, ({cv_results.std()})\")\n",
    "\n",
    "    model_three = KNeighborsClassifier()\n",
    "    model_three.fit(X_train, Y_train)\n",
    "    cv_results = cross_val_score(model_three, X_train, Y_train, cv=kfold, scoring='accuracy')\n",
    "    print(f\"KNeighbors: {cv_results.mean()}, ({cv_results.std()}\")\n",
    "\n",
    "    model_four = LogisticRegression(solver='liblinear', multi_class='ovr')\n",
    "    model_four.fit(X_train, Y_train)\n",
    "    cv_results = cross_val_score(model_four, X_train, Y_train, cv=kfold, scoring='accuracy')\n",
    "    print(f\"LogisticRegression: {cv_results.mean()}, ({cv_results.std()})\")\n",
    "\n",
    "    model_five = LinearDiscriminantAnalysis()\n",
    "    model_five.fit(X_train, Y_train)\n",
    "    cv_results = cross_val_score(model_five, X_train, Y_train, cv=kfold, scoring='accuracy')\n",
    "    print(f\"LinearDiscriminant: {cv_results.mean()}, ({cv_results.std()})\")\n",
    "\n",
    "    model_six = SVC(gamma='auto')\n",
    "    model.fit(X_train, Y_train)\n",
    "    cv_results = cross_val_score(model_five, X_train, Y_train, cv=kfold, scoring='accuracy')\n",
    "    print(f\"SVM: {cv_results.mean()}, ({cv_results.std()})\")"
   ]
  },
  {
   "cell_type": "code",
   "execution_count": null,
   "metadata": {},
   "outputs": [],
   "source": [
    "dataset = load_dataset()\n",
    "\n",
    "summarize_dataset(dataset)\n",
    "\n",
    "print_plot_univariate(dataset)\n",
    "\n",
    "print_plot_multivariate(dataset)\n",
    "\n",
    "my_print_and_test_models(dataset)"
   ]
  }
 ],
 "metadata": {
  "language_info": {
   "name": "python"
  },
  "orig_nbformat": 4
 },
 "nbformat": 4,
 "nbformat_minor": 2
}
